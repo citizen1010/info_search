{
 "cells": [
  {
   "cell_type": "code",
   "execution_count": 3,
   "metadata": {},
   "outputs": [],
   "source": [
    "import re\n",
    "from bs4 import BeautifulSoup as bs\n",
    "\n",
    "# метод получения названия статьи\n",
    "def get_title(data):\n",
    "    text = data.find('h1')\n",
    "    title = text.text.strip() if text else ''\n",
    "    return title\n",
    "\n",
    "# метод получения текста статьи\n",
    "def get_text(data):\n",
    "    r = re.compile(r\"^\\s+\", re.MULTILINE)\n",
    "    [s.extract() for s in data.findAll('code')]\n",
    "    text = r.sub(\"\", data.find('div', 'post__text').text)\n",
    "    return text"
   ]
  },
  {
   "cell_type": "code",
   "execution_count": 4,
   "metadata": {},
   "outputs": [
    {
     "name": "stdout",
     "output_type": "stream",
     "text": [
      "added texts to data 100\n"
     ]
    }
   ],
   "source": [
    "from zipfile import ZIP_DEFLATED, ZipFile\n",
    "\n",
    "# считываем файлы из прошлого задания и добавляем текст в список\n",
    "data = []\n",
    "counter = 0\n",
    "with ZipFile('../task1/pages.zip', 'r', ZIP_DEFLATED) as zipFile:\n",
    "    for info in zipFile.infolist():\n",
    "        file_data = zipFile.read(info.filename)\n",
    "        html_text = bs(file_data, features=\"html.parser\")\n",
    "        title = get_title(html_text)\n",
    "        counter += 1\n",
    "        text = get_title(html_text) + \"\\n\" + get_text(html_text)\n",
    "        data.append(text)\n",
    "print(f'added texts to data {len(data)}')"
   ]
  },
  {
   "cell_type": "code",
   "execution_count": null,
   "metadata": {},
   "outputs": [],
   "source": [
    "# сохраняем только тексты в новом архиве (на будущее)\n",
    "counter = 0\n",
    "with ZipFile('texts.zip', 'w', ZIP_DEFLATED) as zipFile:\n",
    "    for text in data:\n",
    "        counter += 1\n",
    "        zipFile.writestr(f'document_{counter}.txt', text)"
   ]
  },
  {
   "cell_type": "code",
   "execution_count": 3,
   "metadata": {},
   "outputs": [
    {
     "name": "stderr",
     "output_type": "stream",
     "text": [
      "[nltk_data] Downloading package stopwords to\n",
      "[nltk_data]     C:\\Users\\rusla\\AppData\\Roaming\\nltk_data...\n",
      "[nltk_data]   Package stopwords is already up-to-date!\n"
     ]
    }
   ],
   "source": [
    "import nltk\n",
    "import string\n",
    "\n",
    "# добавляем стоп-слова и знаки пунктуации для последующей токенизации\n",
    "nltk.download('stopwords')\n",
    "from nltk.corpus import stopwords\n",
    "\n",
    "stop_words = stopwords.words(\"russian\")\n",
    "for ch in string.punctuation:\n",
    "    stop_words.append(ch)"
   ]
  },
  {
   "cell_type": "code",
   "execution_count": 1,
   "metadata": {},
   "outputs": [],
   "source": [
    "from nltk import word_tokenize\n",
    "\n",
    "# метод получения токенов из текста.\n",
    "# обработка: \n",
    "# разбиваем текст на токены, \n",
    "# переводим токены в нижний регистр, \n",
    "# убираем стоп-слова, \n",
    "# оставляем только aplha-numeric значения\n",
    "\n",
    "def get_tokens(text):\n",
    "    tokens = word_tokenize(text.replace(\"-\", \" \"), language=\"russian\")\n",
    "    tokens = [i.lower() for i in tokens]\n",
    "    tokens = ([i for i in tokens if i not in stop_words])\n",
    "    tokens = [i for i in tokens if i != \"\" and i.isalpha()]\n",
    "    return tokens"
   ]
  },
  {
   "cell_type": "code",
   "execution_count": 2,
   "metadata": {},
   "outputs": [],
   "source": [
    "import pymorphy2\n",
    "morph = pymorphy2.MorphAnalyzer()\n",
    "\n",
    "# метод для лемматизации токенов (создаем словарь, к каждой нормальной форме сопоставляем список из исходных токенов)\n",
    "def lemmatize_tokens(tokens):\n",
    "    lemmas = {}\n",
    "    for token in tokens:\n",
    "        lemma = morph.parse(token)[0].normal_form\n",
    "        if lemmas.get(lemma, None) is None:\n",
    "            lemmas[lemma] = [token]\n",
    "        else:\n",
    "            lemmas[lemma].append(token)\n",
    "    return lemmas"
   ]
  },
  {
   "cell_type": "code",
   "execution_count": 5,
   "metadata": {},
   "outputs": [
    {
     "name": "stdout",
     "output_type": "stream",
     "text": [
      "posts length = 100\n",
      "tokens length = 30920\n",
      "lemmas length = 15029\n"
     ]
    }
   ],
   "source": [
    "import io\n",
    "from zipfile import ZIP_DEFLATED, ZipFile\n",
    "\n",
    "# считываем тексты\n",
    "data = []\n",
    "with ZipFile('texts.zip', 'r', ZIP_DEFLATED) as zipFile:\n",
    "    for info in zipFile.infolist():\n",
    "        with io.TextIOWrapper(zipFile.open(info.filename), encoding=\"utf-8\") as f:\n",
    "            data.append(f.read())\n",
    "print(f'posts length = {len(data)}')\n",
    "\n",
    "# создаем список токенов, с помощью метода выше добавляем токены из каждого текста поста\n",
    "tokens = []\n",
    "for post in data:\n",
    "    tokens += get_tokens(post)\n",
    "    \n",
    "# убираем дупликаты\n",
    "tokens = list(dict.fromkeys(tokens))\n",
    "\n",
    "# записываем токены в файл\n",
    "with open('tokens.txt', \"w\", encoding=\"utf-8\") as file:\n",
    "    for token in tokens:\n",
    "        file.write(token + \"\\n\")\n",
    "print(f'tokens length = {len(tokens)}')\n",
    "\n",
    "# лемматизируем токены\n",
    "lemmas = lemmatize_tokens(tokens)\n",
    "\n",
    "# записываем нормальную форму и исходные токены в файл\n",
    "with open('lemmas.txt', \"w\", encoding=\"utf-8\") as file:\n",
    "    for lemma, tokens in lemmas.items():\n",
    "        file.write(lemma + \" \" + \" \".join(tokens) + \"\\n\")\n",
    "print(f'lemmas length = {len(lemmas)}')"
   ]
  },
  {
   "cell_type": "code",
   "execution_count": null,
   "metadata": {},
   "outputs": [],
   "source": []
  }
 ],
 "metadata": {
  "kernelspec": {
   "display_name": "Python 3",
   "language": "python",
   "name": "python3"
  },
  "language_info": {
   "codemirror_mode": {
    "name": "ipython",
    "version": 3
   },
   "file_extension": ".py",
   "mimetype": "text/x-python",
   "name": "python",
   "nbconvert_exporter": "python",
   "pygments_lexer": "ipython3",
   "version": "3.7.9"
  }
 },
 "nbformat": 4,
 "nbformat_minor": 4
}
