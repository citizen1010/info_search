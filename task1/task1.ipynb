{
 "cells": [
  {
   "cell_type": "code",
   "execution_count": 4,
   "metadata": {},
   "outputs": [],
   "source": [
    "import requests\n",
    "import re\n",
    "from bs4 import BeautifulSoup as bs\n",
    "\n",
    "# Метод получения до n ссылок c помощью regex\n",
    "# из habr страницы, заданной через url\n",
    "def get_posts(n, url):\n",
    "    post_url_regex = '.+habr.com/ru/post/\\d+/$'\n",
    "    posts = set()\n",
    "    page = requests.get(url)\n",
    "    if page.status_code == 200:\n",
    "        data = bs(page.content, features=\"html.parser\")\n",
    "        for link in data.findAll('a', href=True):\n",
    "            href = link['href']\n",
    "            if re.match(post_url_regex, href):\n",
    "                posts.add(href)\n",
    "            if len(posts) >= n:\n",
    "                break\n",
    "    return posts"
   ]
  },
  {
   "cell_type": "code",
   "execution_count": 11,
   "metadata": {},
   "outputs": [
    {
     "name": "stdout",
     "output_type": "stream",
     "text": [
      "posts_url length = 100\n"
     ]
    }
   ],
   "source": [
    "BASE_URL = 'https://habr.com/ru/flows/develop/top/alltime/'\n",
    "post_urls = set()\n",
    "counter = 1\n",
    "# проходим по habr страницам c топами и вытаскиваем ссылки на конкретные посты (до 100) \n",
    "while len(post_urls) < 100:\n",
    "    post_urls = post_urls.union(get_posts(n=100 - len(post_urls), url=BASE_URL + f'page{counter}/'))\n",
    "    counter += 1\n",
    "print(f'posts_url length = {len(post_urls)}')"
   ]
  },
  {
   "cell_type": "code",
   "execution_count": 15,
   "metadata": {},
   "outputs": [
    {
     "name": "stdout",
     "output_type": "stream",
     "text": [
      "saved files in pages.zip = 100\n"
     ]
    }
   ],
   "source": [
    "from zipfile import ZipFile, ZIP_DEFLATED\n",
    "# Сохраняем страницы с постами из ссылок в zip архив\n",
    "counter = 1\n",
    "with ZipFile('pages.zip', 'w', ZIP_DEFLATED) as zipFile:\n",
    "    for url in post_urls:\n",
    "        page = requests.get(url)\n",
    "        zipFile.writestr(f'document_{counter}.html', page.text)\n",
    "        counter += 1\n",
    "print(f'saved files in pages.zip = {counter - 1}')"
   ]
  },
  {
   "cell_type": "code",
   "execution_count": 14,
   "metadata": {},
   "outputs": [
    {
     "name": "stdout",
     "output_type": "stream",
     "text": [
      "saved links in index.txt = 100\n"
     ]
    }
   ],
   "source": [
    "# Сохраняем список ссылок c номерами в index.txt\n",
    "counter = 1\n",
    "with open('index.txt', \"w\", encoding=\"utf-8\") as file:\n",
    "    for url in post_urls:\n",
    "        file.write(f'document_{counter}. {url}\\n')\n",
    "        counter += 1\n",
    "print(f'saved links in index.txt = {counter - 1}')"
   ]
  }
 ],
 "metadata": {
  "kernelspec": {
   "display_name": "Python 3",
   "language": "python",
   "name": "python3"
  },
  "language_info": {
   "codemirror_mode": {
    "name": "ipython",
    "version": 3
   },
   "file_extension": ".py",
   "mimetype": "text/x-python",
   "name": "python",
   "nbconvert_exporter": "python",
   "pygments_lexer": "ipython3",
   "version": "3.7.9"
  }
 },
 "nbformat": 4,
 "nbformat_minor": 4
}
