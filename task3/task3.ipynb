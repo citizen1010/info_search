{
 "cells": [
  {
   "cell_type": "code",
   "execution_count": 58,
   "metadata": {},
   "outputs": [],
   "source": [
    "from zipfile import ZIP_DEFLATED, ZipFile\n",
    "import io\n",
    "\n",
    "# считываем тексты\n",
    "def read_texts():\n",
    "    data = []\n",
    "    with ZipFile('../task2/texts.zip', 'r', ZIP_DEFLATED) as zipFile:\n",
    "        for info in zipFile.infolist():\n",
    "            with io.TextIOWrapper(zipFile.open(info.filename), encoding=\"utf-8\") as f:\n",
    "                data.append(f.read())\n",
    "    print(f'posts length = {len(data)}')\n",
    "    return data"
   ]
  },
  {
   "cell_type": "code",
   "execution_count": 59,
   "metadata": {},
   "outputs": [],
   "source": [
    "from nltk.corpus import stopwords\n",
    "import string\n",
    "\n",
    "# читаем стоп слова\n",
    "def read_stop_words():\n",
    "    stop_words = stopwords.words(\"russian\")\n",
    "    for ch in string.punctuation:\n",
    "        stop_words.append(ch)\n",
    "    return stop_words"
   ]
  },
  {
   "cell_type": "code",
   "execution_count": 60,
   "metadata": {},
   "outputs": [],
   "source": [
    "from nltk import word_tokenize\n",
    "\n",
    "# получаем токены с текста\n",
    "def get_tokens(text, stop_words):\n",
    "    tokens = word_tokenize(text.replace(\"-\", \" \"), language=\"russian\")\n",
    "    tokens = [i.lower() for i in tokens]\n",
    "    tokens = ([i for i in tokens if i not in stop_words])\n",
    "    tokens = [i for i in tokens if i != \"\" and i.isalpha()]\n",
    "    return tokens"
   ]
  },
  {
   "cell_type": "code",
   "execution_count": 61,
   "metadata": {},
   "outputs": [],
   "source": [
    "import pymorphy2\n",
    "\n",
    "morph = pymorphy2.MorphAnalyzer()\n",
    "\n",
    "# получаем нормальную форма слова\n",
    "def get_lemma(token):\n",
    "    return morph.parse(token)[0].normal_form"
   ]
  },
  {
   "cell_type": "code",
   "execution_count": 62,
   "metadata": {},
   "outputs": [],
   "source": [
    "# получаем инвертированный список терминов из текстов\n",
    "def get_inverted_index(texts):\n",
    "    stop_words = read_stop_words()\n",
    "    terms = {}\n",
    "    for i, text in enumerate(texts):\n",
    "        tokens = get_tokens(text, stop_words)\n",
    "        lemmas = list(dict.fromkeys([get_lemma(token) for token in tokens]))\n",
    "        for token in lemmas:\n",
    "            if terms.get(token, None) is None:\n",
    "                terms[token] = []\n",
    "            terms[token].append(i + 1)\n",
    "    return dict(sorted(terms.items()))"
   ]
  },
  {
   "cell_type": "code",
   "execution_count": 63,
   "metadata": {},
   "outputs": [],
   "source": [
    "import json\n",
    "\n",
    "# записываем индекс в файл\n",
    "def write_index(index):\n",
    "    with open('index.json', 'w', encoding='utf8') as outfile:\n",
    "        json.dump(index, outfile, indent=4, ensure_ascii=False)"
   ]
  },
  {
   "cell_type": "code",
   "execution_count": 64,
   "metadata": {},
   "outputs": [],
   "source": [
    "# читаем индекс\n",
    "def read_index():\n",
    "    with open('index.json', 'r', encoding='utf8') as file:\n",
    "        return json.load(file)"
   ]
  },
  {
   "cell_type": "code",
   "execution_count": 65,
   "metadata": {},
   "outputs": [
    {
     "name": "stdout",
     "output_type": "stream",
     "text": [
      "posts length = 100\n"
     ]
    }
   ],
   "source": [
    "# получаем индекс для текстов и записываем его в файл\n",
    "inverted_index = get_inverted_index(read_texts())        \n",
    "write_index(inverted_index)"
   ]
  },
  {
   "cell_type": "code",
   "execution_count": null,
   "metadata": {},
   "outputs": [],
   "source": []
  }
 ],
 "metadata": {
  "kernelspec": {
   "display_name": "Python 3",
   "language": "python",
   "name": "python3"
  },
  "language_info": {
   "codemirror_mode": {
    "name": "ipython",
    "version": 3
   },
   "file_extension": ".py",
   "mimetype": "text/x-python",
   "name": "python",
   "nbconvert_exporter": "python",
   "pygments_lexer": "ipython3",
   "version": "3.7.6"
  }
 },
 "nbformat": 4,
 "nbformat_minor": 4
}
